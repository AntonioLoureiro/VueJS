{
 "cells": [
  {
   "cell_type": "code",
   "execution_count": 1,
   "metadata": {
    "jupyter": {
     "source_hidden": true
    }
   },
   "outputs": [],
   "source": [
    "push!(LOAD_PATH,\"/workspace/VueJS.jl/src/\")\n",
    "using VueJS"
   ]
  },
  {
   "cell_type": "markdown",
   "metadata": {},
   "source": [
    "### HtmlElement\n",
    "#### Features\n",
    "- Basic Element\n",
    "- No JS Data\n",
    "- Only html attrs and value\n",
    "- Value can be a String or array of HtmlElements or Strings\n",
    "- Admits cols argument to define column width"
   ]
  },
  {
   "cell_type": "code",
   "execution_count": 2,
   "metadata": {},
   "outputs": [],
   "source": [
    "# html(tag,value,attrs;kwargs) \n",
    "html(\"h1\",\"Heading Text\",Dict(\"style\"=>\"color:red\"),cols=3)\n",
    "# Special attributes:\n",
    "# Cols: Element width in number of columns, default cols is 2 of 12 columns grid\n",
    "\n",
    "# Array of values(HtmlElements):\n",
    "html(\"div\",[html(\"p\",\"first line\"),html(\"p\",\"second line\")])\n",
    "\n",
    "# Bind of content to element data any attribute present in JS data Structure\n",
    "html(\"h1\",\"{{el1.value}}\");"
   ]
  },
  {
   "cell_type": "markdown",
   "metadata": {},
   "source": [
    "### VueElement\n",
    "#### Features\n",
    "\n",
    "- Basic data structure\n",
    "- With JS Data\n",
    "- Reactive\n",
    "- Input Elements have a value_attr that holds the input value, available using elementid.value\n",
    "- Binds attrs to JS var using binds argument Dict(“attr”=>”jsvar”)\n",
    "- Listens to events, e.g. click. Uses event name as arg and Expression to execute click=”el1.value=’new’”\n",
    "- Admits all attributes available for the specific element\n",
    "- Admits cols argument to define column width\n",
    "- Admits style arg to define style"
   ]
  },
  {
   "cell_type": "code",
   "execution_count": 3,
   "metadata": {},
   "outputs": [],
   "source": [
    "# @el(variable,element type;attributes) attributes should be used according to element original framework documentation (e.g. vuetify)\n",
    "@el(el1,\"v-text-field\",value=\"text\",full-width=true,cols=3,style=Dict(\"color\"=>\"red\"),class=\"ma-2\");\n",
    "# Special attributes:\n",
    "# Cols: Element width in number of columns, default cols is 2 of 12 columns grid\n",
    "# Style: Dict with CSS attribute and value\n",
    "# Class (vuetify): margin and padding according to vuetify documentation\n"
   ]
  },
  {
   "cell_type": "markdown",
   "metadata": {},
   "source": [
    "### Styling\n",
    "#### Features\n",
    "- Allows definition of 3 levels of styling: App, page and element\n",
    "- Binding of style attrs in JS data that allows for client side reactivity\n",
    "- Usage of class attr for padding and margin (see documentation o Vuetify)\n"
   ]
  },
  {
   "cell_type": "code",
   "execution_count": 4,
   "metadata": {},
   "outputs": [],
   "source": [
    "# App Style definition\n",
    "@style \"v-btn\" color=\"red\" background-color=\"black\"\n",
    "@class \"v-btn\" \"ma-5\"\n",
    "\n",
    "# Element Style definition (overrides App and Page)\n",
    "@el(bt,\"v-btn\",content=\"Submit\",style=Dict(\"color\"=>\"red\",\"background-color\"=>\"black\"),class=\"ma-5\")\n",
    "\n",
    "# Page Style definition (overrides App)\n",
    "page([bt],style=Dict(\"v-btn\"=>Dict(\"color\"=>\"red\",\"background-color\"=>\"black\")),class=Dict(\"v-btn\"=>\"ma-5\"));\n",
    "\n"
   ]
  }
 ],
 "metadata": {
  "kernelspec": {
   "display_name": "Julia 1.5.0",
   "language": "julia",
   "name": "julia-1.5"
  },
  "language_info": {
   "file_extension": ".jl",
   "mimetype": "application/julia",
   "name": "julia",
   "version": "1.5.0"
  }
 },
 "nbformat": 4,
 "nbformat_minor": 4
}

{
 "cells": [
  {
   "cell_type": "code",
   "execution_count": 1,
   "metadata": {
    "collapsed": true,
    "jupyter": {
     "outputs_hidden": true,
     "source_hidden": true
    }
   },
   "outputs": [
    {
     "name": "stderr",
     "output_type": "stream",
     "text": [
      "┌ Info: Precompiling VueJS [top-level]\n",
      "└ @ Base loading.jl:1278\n"
     ]
    }
   ],
   "source": [
    "push!(LOAD_PATH,\"/workspace/VueJS.jl/src/\")\n",
    "using VueJS"
   ]
  },
  {
   "cell_type": "markdown",
   "metadata": {},
   "source": [
    "### HtmlElement\n",
    "#### Features\n",
    "- Basic Element\n",
    "- No JS Data\n",
    "- Only html attrs and value\n",
    "- Value can be a String or array of HtmlElements or Strings\n",
    "- Admits cols argument to define column width"
   ]
  },
  {
   "cell_type": "code",
   "execution_count": 2,
   "metadata": {},
   "outputs": [],
   "source": [
    "# html(tag,value,attrs;kwargs) \n",
    "html(\"h1\",\"Heading Text\",Dict(\"style\"=>\"color:red\"),cols=3)\n",
    "# Special attributes:\n",
    "# Cols: Element width in number of columns, default cols is 2 of 12 columns grid\n",
    "\n",
    "# Array of values(HtmlElements):\n",
    "html(\"div\",[html(\"p\",\"first line\"),html(\"p\",\"second line\")])\n",
    "\n",
    "# Bind of content to element data any attribute present in JS data Structure\n",
    "html(\"h1\",\"{{el1.value}}\");"
   ]
  },
  {
   "cell_type": "markdown",
   "metadata": {},
   "source": [
    "### VueElement\n",
    "#### Features\n",
    "\n",
    "- Basic data structure\n",
    "- With JS Data\n",
    "- Reactive\n",
    "- Input Elements have a value_attr that holds the input value, available using elementid.value\n",
    "- Binds attrs to JS var using binds argument Dict(“attr”=>”jsvar”)\n",
    "- Listens to events, e.g. click. Uses event name as arg and Expression to execute click=”el1.value=’new’”\n",
    "- Admits all attributes available for the specific element\n",
    "- Admits cols argument to define column width\n",
    "- Admits style arg to define style"
   ]
  },
  {
   "cell_type": "code",
   "execution_count": 6,
   "metadata": {},
   "outputs": [],
   "source": [
    "# @el(variable,element type;attributes) attributes should be used according to element original framework documentation (e.g. vuetify)\n",
    "@el(el1,\"v-text-field\",value=\"text\",full-width=true,cols=3,style=Dict(\"color\"=>\"red\"),class=\"ma-2\");\n",
    "# Special attributes:\n",
    "# Cols: Element width in number of columns, default cols is 2 of 12 columns grid\n",
    "# Style: Dict with CSS attribute and value\n",
    "# Class (vuetify): margin and padding according to vuetify documentation\n"
   ]
  },
  {
   "cell_type": "markdown",
   "metadata": {},
   "source": [
    "### Styling\n",
    "#### Features\n",
    "- Allows definition of 3 levels of styling: App, page and element\n",
    "- Binding of style attrs in JS data that allows for client side reactivity\n",
    "- Usage of class attr for padding and margin (see documentation o Vuetify)\n"
   ]
  },
  {
   "cell_type": "code",
   "execution_count": 5,
   "metadata": {},
   "outputs": [],
   "source": [
    "# App Style definition\n",
    "@style \"v-btn\" color=\"red\" background-color=\"black\"\n",
    "@class \"v-btn\" \"ma-5\"\n",
    "\n",
    "# Element Style definition (overrides App and Page)\n",
    "@el(bt,\"v-btn\",content=\"Submit\",style=Dict(\"color\"=>\"red\",\"background-color\"=>\"black\"),class=\"ma-5\")\n",
    "\n",
    "# Page Style definition (overrides App)\n",
    "page([bt],style=Dict(\"v-btn\"=>Dict(\"color\"=>\"red\",\"background-color\"=>\"black\")),class=Dict(\"v-btn\"=>\"ma-5\"));\n"
   ]
  },
  {
   "cell_type": "markdown",
   "metadata": {},
   "source": [
    "### VueStruct\n",
    "#### Features\n",
    "- Allows reusability of elements disposed in a specific grid in severall pages\n",
    "- Allows injection of data default values\n",
    "- Allows specific methods, computed, watch and asynccomputed\n",
    "- Has a iterable mode that repeats the grid the number of data array positions, with add and remove methods\n",
    "- Has specific data context\n",
    "- Has specific submit function"
   ]
  },
  {
   "cell_type": "code",
   "execution_count": 10,
   "metadata": {},
   "outputs": [
    {
     "data": {
      "text/plain": [
       "VueStruct(\"vs1\", VueJS.VueElement[VueJS.VueElement(\"el1\", \"v-text-field\", Dict{String,Any}(\"class\" => \"ma-2\",\"style\" => Dict(\"color\" => \"red\"),\"full-width\" => true,\"value\" => \"text\"), Dict{String,Any}(\"storage\" => false), \"\", Dict(\"style\" => \"el1.style\",\"full-width\" => \"el1.full-width\",\"value\" => \"el1.value\"), \"value\", Dict{String,Any}(), Dict{String,String}(), 3, nothing, Dict{String,Any}(), nothing), VueJS.VueElement(\"bt\", \"v-btn\", Dict{String,Any}(\"content\" => \"Submit\",\"class\" => \"ma-5 ma-5 ma-5 ma-5 ma-5\",\"style\" => Dict{String,Any}(\"background-color\" => \"black\",\"color\" => \"red\")), Dict{String,Any}(\"storage\" => false), \"\", Dict(\"style\" => \"bt.style\"), nothing, Dict{String,Any}(), Dict{String,String}(), nothing, nothing, Dict{String,Any}(), nothing)], Dict{String,Any}(), Dict{String,Any}(\"el1\" => \"default text\"), Dict{String,Any}(), Dict{String,Any}(\"methods\" => Dict(\"my_alert\" => \"(arg)=>{window.alert(arg)}\"),\"computed\" => Dict{String,Any}(),\"asynccomputed\" => Dict{String,Any}(),\"watch\" => Dict{String,Any}()), \"\", nothing, Dict{String,Any}(\"class\" => Dict{String,Any}(\"v-btn\" => \"ma-5\"),\"style\" => Dict{String,Any}(\"v-btn\" => Dict(\"background-color\" => \"black\",\"color\" => \"red\"),\"v-col\" => Dict(\"align-content\" => \"center\",\"justify\" => \"center\",\"align\" => \"center\"),\"viewport\" => \"md\")), false)"
      ]
     },
     "execution_count": 10,
     "metadata": {},
     "output_type": "execute_result"
    }
   ],
   "source": [
    "# @st(variable,elements,;kwargs) elements is an array of elements using the grid system, see live examples. kwargs are defined below\n",
    "@st(vs1,[el1,bt],data=Dict(\"el1\"=>\"default text\"),methods=Dict(\"my_alert\"=>\"(arg)=>{window.alert(arg)}\"))\n",
    "## Kwargs\n",
    "# data : default value for elements, uses the value_attr of the element\n",
    "# methods : defines methods using a Dict, key is method name, value is the function"
   ]
  },
  {
   "cell_type": "code",
   "execution_count": null,
   "metadata": {},
   "outputs": [],
   "source": []
  }
 ],
 "metadata": {
  "kernelspec": {
   "display_name": "Julia 1.5.3",
   "language": "julia",
   "name": "julia-1.5"
  },
  "language_info": {
   "file_extension": ".jl",
   "mimetype": "application/julia",
   "name": "julia",
   "version": "1.5.3"
  }
 },
 "nbformat": 4,
 "nbformat_minor": 4
}

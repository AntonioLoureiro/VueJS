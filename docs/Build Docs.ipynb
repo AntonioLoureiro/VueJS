{
 "cells": [
  {
   "cell_type": "code",
   "execution_count": 1,
   "metadata": {},
   "outputs": [],
   "source": [
    "push!(LOAD_PATH,\"/workspace/VueJS.jl/src/\")\n",
    "using VueJS,HTTP,Sockets,JSON,DataFrames,Dates,Namtso\n"
   ]
  },
  {
   "cell_type": "code",
   "execution_count": 3,
   "metadata": {},
   "outputs": [],
   "source": [
    "p=\"\"\n",
    "include(\"examples.jl\")\n",
    "\n",
    "for e in examples\n",
    "    \n",
    "   name=e[1] \n",
    "   ex=split(e[2],\"\\n\")\n",
    "   filter!(x->x!=\"\",ex) \n",
    "   ex_display=join(deepcopy(ex),\"<br>\")\n",
    "    ex[end]=\"global p=\"*ex[end]\n",
    "   \n",
    "    for r in ex\n",
    "        eval(Meta.parse(r))\n",
    "        \n",
    "    end \n",
    "    html_code=String(response(p).body)\n",
    "    code_card=\"\"\"<v-card>\n",
    "      <v-card-title>\n",
    "      Code:\n",
    "      </v-card-title>\n",
    "      <v-card-text>\n",
    "      $ex_display\n",
    "      </v-card-text>\n",
    "    </v-card>\"\"\"\n",
    "    html_code=replace(html_code,\"<v-container fluid>\"=>\"<v-container fluid>\"*code_card)\n",
    "    io = open(\"/workspace/VueJS.jl/docs/$(name).html\", \"w\")\n",
    "    println(io, html_code)\n",
    "    close(io)\n",
    "end\n"
   ]
  },
  {
   "cell_type": "code",
   "execution_count": null,
   "metadata": {},
   "outputs": [],
   "source": []
  }
 ],
 "metadata": {
  "kernelspec": {
   "display_name": "Julia 1.3.1",
   "language": "julia",
   "name": "julia-1.3"
  },
  "language_info": {
   "file_extension": ".jl",
   "mimetype": "application/julia",
   "name": "julia",
   "version": "1.3.1"
  }
 },
 "nbformat": 4,
 "nbformat_minor": 4
}
